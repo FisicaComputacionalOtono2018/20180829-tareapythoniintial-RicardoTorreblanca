{
  "nbformat": 4,
  "nbformat_minor": 0,
  "metadata": {
    "colab": {
      "name": "Tarea",
      "version": "0.3.2",
      "provenance": [],
      "collapsed_sections": []
    },
    "kernelspec": {
      "name": "python3",
      "display_name": "Python 3"
    }
  },
  "cells": [
    {
      "metadata": {
        "id": "7mfetGchZ478",
        "colab_type": "text"
      },
      "cell_type": "markdown",
      "source": [
        "Colaboratory de google es una herramienta para el aprendizaje de machine learning e investigación. Es un ambiente que usa el modelo de Jupyter Notebook la cual no requiere de alguna configuración especial previa. \n",
        "\n",
        "Project Jupyter es un proyecto de código abierto sin fines de lucro, surgido del Proyecto IPython en 2014, ya que evolucionó para admitir la ciencia de datos interactiva y la informática científica en todos los lenguajes de programación. Jupyter siempre será un software 100% de código abierto, de uso gratuito para todos y publicado bajo los términos liberales de la licencia BSD modificada] (https://opensource.org/licenses/BSD-3-Clause).\n",
        "\n",
        "Jupyter se desarrolla en abierto en GitHub, a través del consenso de la comunidad Jupyter. "
      ]
    },
    {
      "metadata": {
        "id": "944Swd-i0CrD",
        "colab_type": "code",
        "colab": {}
      },
      "cell_type": "code",
      "source": [
        "#Calcula el angulo entre dos vectores \n",
        "import math as math\n",
        "print (\"Para calcular el angulo entre ambos vectores por favor introduzca el valor de cada componente del vector en i,j y k\")\n",
        "print (\"Introduzca las componentes del vector 1\")\n",
        "c11= float(input(\"Componente en i:\"))\n",
        "c12= float(input(\"Componente en j:\"))\n",
        "c13= float(input(\"Componente en k:\"))\n",
        "print (\"Introduzca las componentes del vector 2\")\n",
        "c21= float(input(\"Componente en i:\"))\n",
        "c22= float(input(\"Componente en j:\"))\n",
        "c23= float(input(\"Componente en k:\"))\n",
        "if c11==c21 and c12==c22 and c13==c23:\n",
        "  print (\"El angulo entre los vectores es cero \")\n",
        "else :\n",
        " v1=float((c11*c21)+(c12*c22)+(c13*c23))\n",
        " v2=math.sqrt(float((c11**2)+(c12**2)+(c13**2)))\n",
        " v3=math.sqrt(float((c21**2)+(c22**2)+(c23**2)))\n",
        " valorangulo=float (((v1)/(v2*v3)))\n",
        "angulo= math.acos(valorangulo)\n",
        "print (\"el valor del angulo es:\"+str (angulo)+\" \"+\"radianes\")"
      ],
      "execution_count": 0,
      "outputs": []
    },
    {
      "metadata": {
        "id": "TBI0ff0Lzxxq",
        "colab_type": "code",
        "colab": {}
      },
      "cell_type": "code",
      "source": [
        "#Calcula los 3 angulos de un vector en 3 dimensiones\n",
        "import math as math\n",
        "print (\"Para calcular los angulos del vector entre los ejes coordenados,  por favor introduzca el valor de cada componente del vector en i,j y k\")\n",
        "c11= float(input(\"Componente en i:\"))\n",
        "c12= float(input(\"Componente en j:\"))\n",
        "c13= float(input(\"Componente en k:\"))\n",
        "r=math.sqrt((c11**2)+(c12**2)+(c13**2))\n",
        "angulo1= math.acos(c11/r)\n",
        "angulo2= math.acos(c12/r)\n",
        "angulo3= math.acos(c13/r)\n",
        "print (\"Los angulos respecto a x,y y z son: \"+str (angulo1)+\", \"+str (angulo2)+\", \"+str (angulo3)+\", radianes respectivamente\")"
      ],
      "execution_count": 0,
      "outputs": []
    },
    {
      "metadata": {
        "id": "Ao_aNLOhvFVZ",
        "colab_type": "code",
        "colab": {}
      },
      "cell_type": "code",
      "source": [
        "#Calcula el producto vectorial entre dos vectores\n",
        "print (\"Para calcular el producto vectorial entre dos vectores, necesitamos saber el valor de las componentes de cada vector en i,j y k siendo éstos, los valores unitarios\")\n",
        "print (\"Introduzca las componentes del vector 1\")\n",
        "c11= float(input(\"Componente en i:\"))\n",
        "c12= float(input(\"Componente en j:\"))\n",
        "c13= float(input(\"Componente en k:\"))\n",
        "print (\"Introduzca las componentes del vector 2\")\n",
        "c21= float(input(\"Componente en i:\"))\n",
        "c22= float(input(\"Componente en j:\"))\n",
        "c23= float(input(\"Componente en k:\"))\n",
        "componentei= ((c12*c23)-(c13*c22))\n",
        "componentej= ((c11*c23)-(c13*c21))\n",
        "componentek= ((c11*c22)-(c12*c21))\n",
        "if c11==c21 and c12==c22 and c13==c23:\n",
        "   print (\"El valor del producto vectororial es cero\")\n",
        "else :\n",
        "   print (\"El valor del producto vectorial es :\")\n",
        "   print (str(componentei)+\"i\")\n",
        "   print (str(componentej)+\"j\")\n",
        "   print (str(componentek)+\"k\")"
      ],
      "execution_count": 0,
      "outputs": []
    },
    {
      "metadata": {
        "id": "gzdE4EjpCjU1",
        "colab_type": "code",
        "colab": {}
      },
      "cell_type": "code",
      "source": [
        "#Diagrama de flujo\n",
        "#El programa establece una condicion, atraves de ella dependiendo el valor inicial de x, verifica el valor de verdad en la decision,\n",
        "#si esta es verdad, realiza una operacion para determinar si el residuo es cero o no, apartir de ello imprime el valor de x y realiza una suma \n",
        "#para incrementar el valor de x, y repite el ciclo, al final, imprime todos los valores de x hasta que x sea mayor que 5.\n",
        "x=1\n",
        "while x<=5:\n",
        "  if x%3==0:\n",
        "     x=x+2\n",
        "  else: \n",
        "     print (x)\n",
        "     x=x+2\n",
        "    "
      ],
      "execution_count": 0,
      "outputs": []
    },
    {
      "metadata": {
        "id": "rWrR4gJnD_vi",
        "colab_type": "code",
        "colab": {}
      },
      "cell_type": "code",
      "source": [
        "#Velocidad media de corredores\n",
        "import numpy as np\n",
        "stringinput=input (\"dame el valor de la distancia y el tiempo en el formato (minutos,segundos) y usa (0,0) para finalizar la entrada de datos \")\n",
        "print (stringinput)\n",
        "stringinput=stringinput.replace(')(',' ').replace('(','').replace(')','').replace(',',' ')\n",
        "print (stringinput)\n",
        "x=len(stringinput)\n",
        "print(x)\n",
        "espacio=0\n",
        "for i in range (0,x):\n",
        "    if string[i]==\" \":\n",
        "     espacio=espacio+1\n",
        "   \n",
        "  "
      ],
      "execution_count": 0,
      "outputs": []
    },
    {
      "metadata": {
        "id": "wT0215mNqL_q",
        "colab_type": "code",
        "colab": {}
      },
      "cell_type": "code",
      "source": [
        "#Calcula la superficie de un triangulo.\n",
        "print(\"Para calcular el valor de la superficie de un triangulo, debe conocer el valor de la base y la altura\")\n",
        "base= float(input(\"Valor de la base: \"))\n",
        "altura= float(input(\"Valor de la altura: \"))\n",
        "superficie =(base*altura)/2\n",
        "print (\"El valor de la superficie es :\" ,superficie)\n",
        "\n"
      ],
      "execution_count": 0,
      "outputs": []
    },
    {
      "metadata": {
        "id": "S_sWRxMfm4DN",
        "colab_type": "code",
        "colab": {}
      },
      "cell_type": "code",
      "source": [
        "#Determina el valor de los coeficientes\n",
        "import numpy as np\n",
        "import matplotlib.pyplot as plt\n",
        "print (\"para resolver un sistema de ecuaciones lineales de la forma ax+by=c y dx+ey=f introduzca los valores de los coeficientes:\")\n",
        "a= float(input(\"Dame el valor de a:\"))\n",
        "b=float(input(\"Dame el valor de b:\"))\n",
        "c=float(input(\"Dame el valor de c:\"))\n",
        "d=float(input(\"Dame el valor de d:\"))\n",
        "e=float(input(\"Dame el valor de e:\"))\n",
        "f=float(input(\"Dame el valor de f:\"))\n",
        "#Realiza las operaciones\n",
        "t1=(c*e)-(b*f) \n",
        "t2=(a*f)-(c*d)\n",
        "tn=(a*e)-(b*d)\n",
        "if tn==0:\n",
        "   print (\"indeterminado\")\n",
        "else :\n",
        "   x= t1/tn\n",
        "   y= t2/tn\n",
        "   print (x)\n",
        "   print (y)\n",
        "  "
      ],
      "execution_count": 0,
      "outputs": []
    },
    {
      "metadata": {
        "id": "3BGdi8sjS8vf",
        "colab_type": "code",
        "colab": {}
      },
      "cell_type": "code",
      "source": [
        "import numpy as np\n",
        "import matplotlib.pyplot as plt\n",
        "\n",
        "#Graficar las siguientes funciones en una misma grafica. en el rango de -10 a 15\n",
        "\n",
        "def f(x):\n",
        "    return (2*(x**2))+(5*x)-2\n",
        "def g(x):\n",
        "    return (4*x)+1\n",
        "  \n",
        "v1 = np.arange(-10.0, 15.0, 0.1)\n",
        "v2 = np.arange(-10.0, 15.0, 0.1)\n",
        "plt.plot(v1,f(v1),\"k\",v2,g(v2),\"r--\")\n",
        "#plt.savefig(\"Dosfunciones.png\")\n",
        "plt.show()\n"
      ],
      "execution_count": 0,
      "outputs": []
    },
    {
      "metadata": {
        "id": "x2fvc2Ccs3s9",
        "colab_type": "code",
        "colab": {}
      },
      "cell_type": "code",
      "source": [
        "#Crear un algoritmo para determinar el numero mayor\n",
        "lista=[]\n",
        "cantidad =int(input(\"Cantidad de numeros a comparar: \"))\n",
        "mayor=0\n",
        "i=1\n",
        "while (cantidad>0):\n",
        "       numero=float(input(\"Numero : \" + str(i)+ \" : \"))\n",
        "       lista.append(numero)\n",
        "       i=i+1\n",
        "       cantidad=cantidad-1\n",
        "mayor =max(lista)\n",
        "print(\"El numero mayor es \",mayor)\n",
        "\n",
        "\n"
      ],
      "execution_count": 0,
      "outputs": []
    },
    {
      "metadata": {
        "id": "e7V5K2HZmtl9",
        "colab_type": "code",
        "colab": {}
      },
      "cell_type": "code",
      "source": [
        "#Impresion y suma de una serie\n",
        "resultado=0\n",
        "suma=0\n",
        "for i in range (1,34):\n",
        "   resultado=(3*i)\n",
        "   suma=suma+resultado\n",
        "   print (resultado)\n",
        "print (\"El valor de la suma es: \"+ str(suma))    "
      ],
      "execution_count": 0,
      "outputs": []
    }
  ]
}